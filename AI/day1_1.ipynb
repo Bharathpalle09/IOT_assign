{
 "cells": [
  {
   "cell_type": "code",
   "execution_count": 1,
   "id": "2f79b84a-217a-47d7-bccc-a7f39f61efe3",
   "metadata": {},
   "outputs": [
    {
     "name": "stdout",
     "output_type": "stream",
     "text": [
      "hello world!\n"
     ]
    }
   ],
   "source": [
    "print(\"hello world!\")"
   ]
  },
  {
   "cell_type": "code",
   "execution_count": null,
   "id": "ac734563-e905-4a84-a084-65542f9f2e7f",
   "metadata": {},
   "outputs": [],
   "source": [
    "num =20"
   ]
  },
  {
   "cell_type": "code",
   "execution_count": 2,
   "id": "0cc3bf4b-c7ee-46b4-a83f-85636b41ba08",
   "metadata": {},
   "outputs": [
    {
     "ename": "NameError",
     "evalue": "name 'num' is not defined",
     "output_type": "error",
     "traceback": [
      "\u001b[0;31m---------------------------------------------------------------------------\u001b[0m",
      "\u001b[0;31mNameError\u001b[0m                                 Traceback (most recent call last)",
      "Cell \u001b[0;32mIn[2], line 1\u001b[0m\n\u001b[0;32m----> 1\u001b[0m \u001b[38;5;28mprint\u001b[39m(\u001b[43mnum\u001b[49m)\n",
      "\u001b[0;31mNameError\u001b[0m: name 'num' is not defined"
     ]
    }
   ],
   "source": [
    "print(num)"
   ]
  },
  {
   "cell_type": "code",
   "execution_count": 3,
   "id": "e8f6ec29-8e8d-4ee3-a3fe-07541d50d977",
   "metadata": {},
   "outputs": [],
   "source": [
    "num = 20"
   ]
  },
  {
   "cell_type": "code",
   "execution_count": 4,
   "id": "19df7b78-96c2-4330-b980-e2d810227dcc",
   "metadata": {},
   "outputs": [
    {
     "name": "stdout",
     "output_type": "stream",
     "text": [
      "20\n"
     ]
    }
   ],
   "source": [
    "print(num)"
   ]
  },
  {
   "cell_type": "code",
   "execution_count": 5,
   "id": "2e26072e-f5df-49fb-8bf5-e1988779ea83",
   "metadata": {},
   "outputs": [
    {
     "name": "stdout",
     "output_type": "stream",
     "text": [
      "bharath\n"
     ]
    }
   ],
   "source": [
    "print(\"bharath\")"
   ]
  },
  {
   "cell_type": "code",
   "execution_count": 6,
   "id": "049c7644-9664-4bd0-b689-b9e2c01c324a",
   "metadata": {},
   "outputs": [],
   "source": [
    "import numpy as np"
   ]
  },
  {
   "cell_type": "code",
   "execution_count": 11,
   "id": "6f07afde-1e32-4eb4-a042-54e16c5b2eb2",
   "metadata": {},
   "outputs": [],
   "source": [
    "def function():\n",
    "    l1=[10,20,30,40,50]\n",
    "    print(l1)\n",
    "    print(f\"type={type(l1)}\")\n",
    "    print(f\"l[2]={l1[2]}\")"
   ]
  },
  {
   "cell_type": "code",
   "execution_count": 12,
   "id": "35484d58-49bc-4b55-9039-bb7d3ce31269",
   "metadata": {},
   "outputs": [
    {
     "name": "stdout",
     "output_type": "stream",
     "text": [
      "[10, 20, 30, 40, 50]\n",
      "type=<class 'list'>\n",
      "l[2]=30\n"
     ]
    }
   ],
   "source": [
    "function()"
   ]
  },
  {
   "cell_type": "code",
   "execution_count": 13,
   "id": "68a2b61d-a924-440d-b8fe-21512dfdcc0a",
   "metadata": {},
   "outputs": [],
   "source": [
    "def function2():\n",
    "    l1=[10,20,30,40,50]\n",
    "    print(l1)\n",
    "    print(f\"type={type(l1)}\")\n",
    "    print(f\"l[2]={l1[2]}\")\n",
    "    print(f\"l1[2]={type(l1[2])}\")"
   ]
  },
  {
   "cell_type": "code",
   "execution_count": 14,
   "id": "9791eb2e-f1d2-4f90-a291-2498fef36162",
   "metadata": {},
   "outputs": [
    {
     "name": "stdout",
     "output_type": "stream",
     "text": [
      "[10, 20, 30, 40, 50]\n",
      "type=<class 'list'>\n",
      "l[2]=30\n",
      "l1[2]=<class 'int'>\n"
     ]
    }
   ],
   "source": [
    "function2()\n"
   ]
  },
  {
   "cell_type": "code",
   "execution_count": 15,
   "id": "9932cd25-e115-42d4-98d8-c180f458f4de",
   "metadata": {},
   "outputs": [],
   "source": [
    "def function3():\n",
    "    np_arr=np.array([10,20,30,40])\n",
    "    print(np_arr)\n",
    "    print(f\"np_arr={type(np_arr)}\")"
   ]
  },
  {
   "cell_type": "code",
   "execution_count": 16,
   "id": "4ba66800-190f-4f3b-beee-f6ea6e3497ff",
   "metadata": {},
   "outputs": [
    {
     "name": "stdout",
     "output_type": "stream",
     "text": [
      "[10 20 30 40]\n",
      "np_arr=<class 'numpy.ndarray'>\n"
     ]
    }
   ],
   "source": [
    "function3()"
   ]
  },
  {
   "cell_type": "code",
   "execution_count": 24,
   "id": "9b7b22f1-2b20-45a7-b7f4-489d035a43da",
   "metadata": {},
   "outputs": [],
   "source": [
    "def function4():\n",
    "    np_arr=np.array([10,20,30,40])\n",
    "    print(np_arr)\n",
    "    print(f\"np_arr={type(np_arr)}\")\n",
    "    print(f\"dtype={np_arr.dtype}\")\n",
    "    print(f\"item size={np_arr.itemsize}\")\n",
    "    print(f\"size ={np_arr.size}\")\n",
    "    print(f\"NDIM={np_arr.ndim}\")\n",
    "    print(f\"NBYTES={np_arr.nbytes}\")"
   ]
  },
  {
   "cell_type": "code",
   "execution_count": 25,
   "id": "b45a35a1-2d24-4bab-a4bc-3a037dc1d749",
   "metadata": {},
   "outputs": [
    {
     "name": "stdout",
     "output_type": "stream",
     "text": [
      "[10 20 30 40]\n",
      "np_arr=<class 'numpy.ndarray'>\n",
      "dtype=int64\n",
      "item size=8\n",
      "size =4\n",
      "NDIM=1\n",
      "NBYTES=32\n"
     ]
    }
   ],
   "source": [
    "function4()"
   ]
  },
  {
   "cell_type": "code",
   "execution_count": 29,
   "id": "a59768e4-7f4c-406f-a9cc-742da6b724e4",
   "metadata": {},
   "outputs": [],
   "source": [
    "def function5(np_arr):\n",
    "   \n",
    "    print(np_arr)\n",
    "    print(f\"np_arr={type(np_arr)}\")\n",
    "    print(f\"dtype={np_arr.dtype}\")\n",
    "    print(f\"item size={np_arr.itemsize}\")\n",
    "    print(f\"size ={np_arr.size}\")\n",
    "    print(f\"NDIM={np_arr.ndim}\")\n",
    "    print(f\"NBYTES={np_arr.nbytes}\")"
   ]
  },
  {
   "cell_type": "code",
   "execution_count": 27,
   "id": "7042d038-8d11-4685-b4a7-23030b246fb7",
   "metadata": {},
   "outputs": [
    {
     "name": "stdout",
     "output_type": "stream",
     "text": [
      "[10 20 30 40]\n",
      "np_arr=<class 'numpy.ndarray'>\n",
      "dtype=int64\n",
      "item size=8\n",
      "size =4\n",
      "NDIM=1\n",
      "NBYTES=32\n"
     ]
    }
   ],
   "source": [
    "arr=np.array([10,20,30,40])\n",
    "function5(arr)"
   ]
  },
  {
   "cell_type": "code",
   "execution_count": 32,
   "id": "f87ed2e6-62d9-43be-b62c-5011f75c90ea",
   "metadata": {},
   "outputs": [
    {
     "name": "stdout",
     "output_type": "stream",
     "text": [
      "[10 20 30 40]\n",
      "np_arr=<class 'numpy.ndarray'>\n",
      "dtype=int16\n",
      "item size=2\n",
      "size =4\n",
      "NDIM=1\n",
      "NBYTES=8\n"
     ]
    }
   ],
   "source": [
    "arr2=np.array([10,20,30,40],dtype=np.int16)\n",
    "function5(arr2)"
   ]
  },
  {
   "cell_type": "code",
   "execution_count": 33,
   "id": "4c7ea6a6-d198-4fbb-be34-249ef0988779",
   "metadata": {},
   "outputs": [
    {
     "name": "stdout",
     "output_type": "stream",
     "text": [
      "[10 20 30 40]\n",
      "np_arr=<class 'numpy.ndarray'>\n",
      "dtype=int64\n",
      "item size=8\n",
      "size =4\n",
      "NDIM=1\n",
      "NBYTES=32\n"
     ]
    }
   ],
   "source": [
    "arr3=np.array([10,20,30,40],dtype=np.int64)\n",
    "function5(arr3)"
   ]
  },
  {
   "cell_type": "code",
   "execution_count": 36,
   "id": "80d10eab-94ff-4d81-ba7f-cee63f0ed454",
   "metadata": {},
   "outputs": [
    {
     "name": "stdout",
     "output_type": "stream",
     "text": [
      "[2.74 2.34 3.24]\n",
      "np_arr=<class 'numpy.ndarray'>\n",
      "dtype=float64\n",
      "item size=8\n",
      "size =3\n",
      "NDIM=1\n",
      "NBYTES=24\n"
     ]
    }
   ],
   "source": [
    "arr4=np.array([2.740,2.34,3.24])\n",
    "function5(arr4)\n"
   ]
  },
  {
   "cell_type": "code",
   "execution_count": 45,
   "id": "46c7e959-cd83-4ff0-9d48-4fe599dea505",
   "metadata": {},
   "outputs": [
    {
     "name": "stdout",
     "output_type": "stream",
     "text": [
      "[2.7 6.8 7.8]\n",
      "np_arr=<class 'numpy.ndarray'>\n",
      "dtype=float16\n",
      "item size=2\n",
      "size =3\n",
      "NDIM=1\n",
      "NBYTES=6\n"
     ]
    }
   ],
   "source": [
    "arr5=np.array([2.70,6.80,7.80],dtype=np.float16)\n",
    "function5(arr5)"
   ]
  },
  {
   "cell_type": "code",
   "execution_count": 54,
   "id": "89c45cf4-67c7-4ca2-bcf3-0f378ba86666",
   "metadata": {},
   "outputs": [
    {
     "ename": "ValueError",
     "evalue": "invalid literal for int() with base 10: 'C'",
     "output_type": "error",
     "traceback": [
      "\u001b[0;31m---------------------------------------------------------------------------\u001b[0m",
      "\u001b[0;31mValueError\u001b[0m                                Traceback (most recent call last)",
      "Cell \u001b[0;32mIn[54], line 1\u001b[0m\n\u001b[0;32m----> 1\u001b[0m n5 \u001b[38;5;241m=\u001b[39m \u001b[43mnp\u001b[49m\u001b[38;5;241;43m.\u001b[39;49m\u001b[43marray\u001b[49m\u001b[43m(\u001b[49m\u001b[43m[\u001b[49m\u001b[38;5;124;43m\"\u001b[39;49m\u001b[38;5;124;43mC\u001b[39;49m\u001b[38;5;124;43m\"\u001b[39;49m\u001b[43m,\u001b[49m\u001b[38;5;124;43m\"\u001b[39;49m\u001b[38;5;124;43mC++\u001b[39;49m\u001b[38;5;124;43m\"\u001b[39;49m\u001b[43m,\u001b[49m\u001b[38;5;124;43m\"\u001b[39;49m\u001b[38;5;124;43mPython\u001b[39;49m\u001b[38;5;124;43m\"\u001b[39;49m\u001b[43m,\u001b[49m\u001b[38;5;124;43m\"\u001b[39;49m\u001b[38;5;124;43mJava\u001b[39;49m\u001b[38;5;124;43m\"\u001b[39;49m\u001b[43m]\u001b[49m\u001b[43m,\u001b[49m\u001b[43mdtype\u001b[49m\u001b[38;5;241;43m=\u001b[39;49m\u001b[43mnp\u001b[49m\u001b[38;5;241;43m.\u001b[39;49m\u001b[43muintc\u001b[49m\u001b[43m)\u001b[49m\n\u001b[1;32m      2\u001b[0m function5(n5)\n",
      "\u001b[0;31mValueError\u001b[0m: invalid literal for int() with base 10: 'C'"
     ]
    }
   ],
   "source": [
    "n5 = np.array([\"C\",\"C++\",\"Python\",\"Java\"],dtype=np.uintc)\n",
    "function5(n5)"
   ]
  },
  {
   "cell_type": "code",
   "execution_count": 53,
   "id": "658ee10d-12f2-4d26-9d5b-f4142edf019b",
   "metadata": {},
   "outputs": [],
   "source": [
    "#scliceing indexing"
   ]
  },
  {
   "cell_type": "code",
   "execution_count": null,
   "id": "06edcca7-173c-4378-819f-1d9279011eb6",
   "metadata": {},
   "outputs": [],
   "source": []
  },
  {
   "cell_type": "code",
   "execution_count": null,
   "id": "f549ec58-2e23-4e21-ac82-2de8fee9fdc5",
   "metadata": {},
   "outputs": [],
   "source": []
  }
 ],
 "metadata": {
  "kernelspec": {
   "display_name": "Python 3 (ipykernel)",
   "language": "python",
   "name": "python3"
  },
  "language_info": {
   "codemirror_mode": {
    "name": "ipython",
    "version": 3
   },
   "file_extension": ".py",
   "mimetype": "text/x-python",
   "name": "python",
   "nbconvert_exporter": "python",
   "pygments_lexer": "ipython3",
   "version": "3.12.3"
  }
 },
 "nbformat": 4,
 "nbformat_minor": 5
}
