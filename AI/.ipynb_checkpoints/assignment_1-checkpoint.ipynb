{
 "cells": [
  {
   "cell_type": "code",
   "execution_count": 1,
   "id": "7611d13f-c4e7-4c80-9b5b-840390468e99",
   "metadata": {},
   "outputs": [],
   "source": [
    "import numpy as np"
   ]
  },
  {
   "cell_type": "code",
   "execution_count": 2,
   "id": "2d67b8c3-86c5-4188-96c5-403d3851ac5f",
   "metadata": {},
   "outputs": [
    {
     "name": "stdout",
     "output_type": "stream",
     "text": [
      "size=4\n"
     ]
    }
   ],
   "source": [
    "arr=np.array([1,7,13,105])\n",
    "print(f\"size={arr.size}\")"
   ]
  },
  {
   "cell_type": "code",
   "execution_count": 3,
   "id": "139bcd97-7cbf-4614-944a-6510b74a196b",
   "metadata": {},
   "outputs": [],
   "source": [
    "def function(a):\n",
    "    a1=np.array([1,2,3,4])\n",
    "    a2=np.array([7,4,3,2])\n",
    "    if a1[a]>a2[a]:\n",
    "        print(\"a1 is greater\")\n",
    "    elif a1[a]<a2[a]:\n",
    "        print(\"a2 is greater\")\n",
    "    else:\n",
    "        print(\"equal\")"
   ]
  },
  {
   "cell_type": "code",
   "execution_count": 5,
   "id": "b331ddca-e9ca-4ea5-bdba-f56b265d9f9b",
   "metadata": {},
   "outputs": [
    {
     "name": "stdout",
     "output_type": "stream",
     "text": [
      "a2 is greater\n"
     ]
    }
   ],
   "source": [
    "function(1)"
   ]
  },
  {
   "cell_type": "code",
   "execution_count": 13,
   "id": "846434ed-a25d-407c-9703-a12aa3c60940",
   "metadata": {},
   "outputs": [
    {
     "name": "stdout",
     "output_type": "stream",
     "text": [
      "[0. 0. 0. 0. 0. 0. 0. 0. 0. 0.] [1. 1. 1. 1. 1. 1. 1. 1. 1. 1.] [5. 5. 5. 5. 5. 5. 5. 5. 5. 5.] [10. 10. 10. 10. 10. 10. 10. 10. 10. 10.] [20. 20. 20. 20. 20. 20. 20. 20. 20. 20.] [50. 50. 50. 50. 50. 50. 50. 50. 50. 50.]\n"
     ]
    }
   ],
   "source": [
    "arr1=np.zeros(10)\n",
    "arr2=np.ones(10)\n",
    "arr3=np.ones(10)*5\n",
    "arr4=np.ones(10)*10\n",
    "arr5=np.ones(10)*20\n",
    "arr6=np.ones(10)*50\n",
    "print(arr1,arr2,arr3,arr4,arr5,arr6)\n",
    "#print(arr7)\n"
   ]
  },
  {
   "cell_type": "code",
   "execution_count": 15,
   "id": "ae88dac0-de30-480f-9d6e-169535d82974",
   "metadata": {},
   "outputs": [
    {
     "name": "stdout",
     "output_type": "stream",
     "text": [
      "[30 31 32 33 34 35 36 37 38 39 40 41 42 43 44 45 46 47 48 49 50 51 52 53\n",
      " 54 55 56 57 58 59 60 61 62 63 64 65 66 67 68 69 70]\n"
     ]
    }
   ],
   "source": [
    "arr=np.arange(30,71,1)\n",
    "print(arr)"
   ]
  },
  {
   "cell_type": "code",
   "execution_count": 16,
   "id": "932d4d97-6413-4f9e-9f50-bfef8e3ed783",
   "metadata": {},
   "outputs": [
    {
     "name": "stdout",
     "output_type": "stream",
     "text": [
      "[50 51 52 53 54 55 56 57 58 59 60 61 62 63 64 65 66 67 68 69 70 71 72 73\n",
      " 74 75 76 77 78 79 80 81 82 83 84 85 86 87 88 89 90 91 92 93 94]\n"
     ]
    }
   ],
   "source": [
    "arr=np.arange(50,95,1)\n",
    "print(arr)"
   ]
  },
  {
   "cell_type": "code",
   "execution_count": 17,
   "id": "9bdcd2c9-fb6e-4db6-b13a-b270cb3d2500",
   "metadata": {},
   "outputs": [
    {
     "name": "stdout",
     "output_type": "stream",
     "text": [
      "[20 22 24 26 28 30 32 34 36 38 40 42 44 46 48 50 52 54 56 58 60 62 64 66\n",
      " 68 70 72 74 76 78]\n"
     ]
    }
   ],
   "source": [
    "arr=np.arange(20,80,2)\n",
    "print(arr)"
   ]
  },
  {
   "cell_type": "code",
   "execution_count": 18,
   "id": "64427be8-682f-480b-aa49-8f79cfd87e63",
   "metadata": {},
   "outputs": [
    {
     "name": "stdout",
     "output_type": "stream",
     "text": [
      "[21 23 25 27 29 31 33 35 37 39 41 43 45 47 49 51 53 55 57 59 61 63 65 67\n",
      " 69 71 73 75 77 79]\n"
     ]
    }
   ],
   "source": [
    "arr=np.arange(21,80,2)\n",
    "print(arr)"
   ]
  },
  {
   "cell_type": "code",
   "execution_count": 19,
   "id": "52cbf238-86d5-40f9-8d92-e31c7b61fbe6",
   "metadata": {},
   "outputs": [
    {
     "name": "stdout",
     "output_type": "stream",
     "text": [
      "[49 40 49 44 34 44 36 43 42 31]\n"
     ]
    }
   ],
   "source": [
    "arr=np.random.randint(30,50,10)\n",
    "print(arr)"
   ]
  },
  {
   "cell_type": "code",
   "execution_count": 20,
   "id": "522ed144-6c28-43d5-a974-e0c598214dfe",
   "metadata": {},
   "outputs": [
    {
     "name": "stdout",
     "output_type": "stream",
     "text": [
      "[72 82 75 76 89 88 59 52 76 83 87 89 62 77 54 84 54 60 51 57]\n"
     ]
    }
   ],
   "source": [
    "arr=np.random.randint(50,90,20)\n",
    "print(arr)"
   ]
  },
  {
   "cell_type": "code",
   "execution_count": 24,
   "id": "65d00bda-eb9e-47fe-9809-aef16882be6c",
   "metadata": {},
   "outputs": [
    {
     "name": "stdout",
     "output_type": "stream",
     "text": [
      "[ 5  7  9 11] [-1 -1 -1 -1] [ 6 12 20 30] [0.66666667 0.75       0.8        0.83333333]\n"
     ]
    }
   ],
   "source": [
    "arr1=np.array([2,3,4,5])\n",
    "arr2=np.array([3,4,5,6])\n",
    "print((arr1+arr2),(arr1-arr2),(arr1*arr2),(arr1/arr2))"
   ]
  },
  {
   "cell_type": "code",
   "execution_count": 25,
   "id": "3d7961e2-facd-497b-9221-bfd28e33fd79",
   "metadata": {},
   "outputs": [
    {
     "name": "stdout",
     "output_type": "stream",
     "text": [
      "[[10 11 12 13]\n",
      " [14 15 16 17]\n",
      " [18 19 20 21]]\n"
     ]
    }
   ],
   "source": [
    "arr=np.arange(10,22)\n",
    "arr=arr.reshape(3,4)\n",
    "print(arr)"
   ]
  },
  {
   "cell_type": "code",
   "execution_count": 26,
   "id": "dc2ad017-be00-4f75-8dca-5ee49a59e7fa",
   "metadata": {},
   "outputs": [
    {
     "name": "stdout",
     "output_type": "stream",
     "text": [
      "[[1. 0. 0.]\n",
      " [0. 1. 0.]\n",
      " [0. 0. 1.]]\n"
     ]
    }
   ],
   "source": [
    "arr=np.eye(3)\n",
    "print(arr)"
   ]
  },
  {
   "cell_type": "code",
   "execution_count": 28,
   "id": "4db14708-9df9-4bab-863d-91e914511d10",
   "metadata": {},
   "outputs": [
    {
     "name": "stdout",
     "output_type": "stream",
     "text": [
      "(3, 3)\n"
     ]
    }
   ],
   "source": [
    "arr1=np.arange(10,19,1)\n",
    "arr1=arr1.reshape(3,3)\n",
    "dim=arr1.shape\n",
    "print(dim)"
   ]
  },
  {
   "cell_type": "code",
   "execution_count": 29,
   "id": "553bdba2-6a9e-449d-9e4e-8be38ea34bc6",
   "metadata": {},
   "outputs": [
    {
     "name": "stdout",
     "output_type": "stream",
     "text": [
      "[[1 0 0 0 0]\n",
      " [0 2 0 0 0]\n",
      " [0 0 3 0 0]\n",
      " [0 0 0 4 0]\n",
      " [0 0 0 0 5]]\n"
     ]
    }
   ],
   "source": [
    "arr=np.diag([1,2,3,4,5])\n",
    "print(arr)\n"
   ]
  },
  {
   "cell_type": "code",
   "execution_count": 30,
   "id": "db5b271b-4528-4ed0-a4f3-84df2d81284c",
   "metadata": {},
   "outputs": [
    {
     "name": "stdout",
     "output_type": "stream",
     "text": [
      "[[[0.54260123 0.57090667 0.58293814]\n",
      "  [0.28662771 0.09441077 0.60415472]\n",
      "  [0.09577941 0.50041746 0.4246487 ]]\n",
      "\n",
      " [[0.73019315 0.35466925 0.0391938 ]\n",
      "  [0.24204493 0.98078012 0.84357002]\n",
      "  [0.81796022 0.41537558 0.31910063]]\n",
      "\n",
      " [[0.88179808 0.70828447 0.84386467]\n",
      "  [0.29447026 0.15483115 0.91870001]\n",
      "  [0.29388231 0.85711697 0.23614133]]]\n"
     ]
    }
   ],
   "source": [
    "arr=np.random.rand(3,3,3)\n",
    "print(arr)"
   ]
  },
  {
   "cell_type": "code",
   "execution_count": 31,
   "id": "22034dcd-1658-4c68-ae67-89fb29bcd4ff",
   "metadata": {},
   "outputs": [
    {
     "name": "stdout",
     "output_type": "stream",
     "text": [
      "[[[0.53380818 0.56174968 0.73076054 0.07583783]\n",
      "  [0.89689209 0.99148823 0.85312785 0.7033353 ]\n",
      "  [0.84920643 0.72606801 0.88929803 0.19619656]]\n",
      "\n",
      " [[0.79859198 0.73241267 0.84180948 0.90831535]\n",
      "  [0.19365531 0.61951127 0.34815595 0.37586964]\n",
      "  [0.70968173 0.24055923 0.39761224 0.86999651]]]\n"
     ]
    }
   ],
   "source": [
    "arr=np.random.rand(2,3,4)\n",
    "print(arr)"
   ]
  },
  {
   "cell_type": "code",
   "execution_count": 32,
   "id": "8072d33d-6e3f-4668-8ad7-ba24f18f2b29",
   "metadata": {},
   "outputs": [
    {
     "name": "stdout",
     "output_type": "stream",
     "text": [
      "[1 2 3 4 5]\n"
     ]
    }
   ],
   "source": [
    "l1=[1,2,3,4,5]\n",
    "arr=np.array(l1)\n",
    "print(arr)"
   ]
  },
  {
   "cell_type": "code",
   "execution_count": 33,
   "id": "9ff1a80a-fa25-496b-bb6c-545608d1a81b",
   "metadata": {},
   "outputs": [
    {
     "name": "stdout",
     "output_type": "stream",
     "text": [
      "[[ 2  3  4]\n",
      " [ 5  6  7]\n",
      " [ 8  9 10]]\n"
     ]
    }
   ],
   "source": [
    "l1=np.arange(2,11).reshape(3,3)\n",
    "print(l1)"
   ]
  },
  {
   "cell_type": "code",
   "execution_count": 35,
   "id": "e4504fd9-0be3-41fb-b854-40649b0dfcf8",
   "metadata": {},
   "outputs": [
    {
     "name": "stdout",
     "output_type": "stream",
     "text": [
      "[12 13 14 15 16 17 18 19 20 21 22 23 24 25 26 27 28 29 30 31 32 33 34 35\n",
      " 36 37 38]\n"
     ]
    }
   ],
   "source": [
    "l1=np.arange(12,39)\n",
    "print(l1)"
   ]
  },
  {
   "cell_type": "code",
   "execution_count": 45,
   "id": "1f5f1de6-195d-4d25-8f9e-11d5deba13f5",
   "metadata": {},
   "outputs": [
    {
     "name": "stdout",
     "output_type": "stream",
     "text": [
      "[38 37 36 35 34 33 32 31 30 29 28 27 26 25 24 23 22 21 20 19 18 17 16 15\n",
      " 14 13 12]\n"
     ]
    }
   ],
   "source": [
    "l1=np.arange(12,39)\n",
    "print(l1[::-1])"
   ]
  },
  {
   "cell_type": "code",
   "execution_count": 47,
   "id": "a54c6838-6753-4ab0-aef2-fa355446d77d",
   "metadata": {},
   "outputs": [
    {
     "name": "stdout",
     "output_type": "stream",
     "text": [
      "dtype=float64\n"
     ]
    }
   ],
   "source": [
    "arr=np.array([1,2,3,4,5],dtype=float)\n",
    "print(f\"dtype={arr.dtype}\")\n"
   ]
  },
  {
   "cell_type": "code",
   "execution_count": 48,
   "id": "76b203b2-4f50-4716-a2cc-955098869fcc",
   "metadata": {},
   "outputs": [
    {
     "name": "stdout",
     "output_type": "stream",
     "text": [
      "[1, 2, 3, 4, 5, 6]\n"
     ]
    }
   ],
   "source": [
    "l1=[1,2,3,4,5,6]\n",
    "arr=np.array(l1)\n",
    "print(l1)"
   ]
  },
  {
   "cell_type": "code",
   "execution_count": 49,
   "id": "0d43f4e7-8fcc-465b-8ecd-c0e9e87fed65",
   "metadata": {},
   "outputs": [
    {
     "name": "stdout",
     "output_type": "stream",
     "text": [
      "[2 0 1 2 0 1 2 0 1 2 0 1 2 0 1 2 0 1 2 0 1 2 0 1 2 0 1 2 0 1]\n"
     ]
    }
   ],
   "source": [
    "arr=np.arange(20,50)\n",
    "x=np.remainder(arr,3)\n",
    "print(x)"
   ]
  },
  {
   "cell_type": "code",
   "execution_count": null,
   "id": "bfcd55d2-02b3-4f46-afc9-28311fd0e0e2",
   "metadata": {},
   "outputs": [],
   "source": []
  },
  {
   "cell_type": "code",
   "execution_count": null,
   "id": "94e31b9c-b75f-413d-8894-9d69d1778b72",
   "metadata": {},
   "outputs": [],
   "source": []
  },
  {
   "cell_type": "code",
   "execution_count": null,
   "id": "d7764607-d96f-4acc-9d13-6c9050833451",
   "metadata": {},
   "outputs": [],
   "source": []
  },
  {
   "cell_type": "code",
   "execution_count": null,
   "id": "31782b50-aa75-48c4-9310-1c2d4f862630",
   "metadata": {},
   "outputs": [],
   "source": []
  }
 ],
 "metadata": {
  "kernelspec": {
   "display_name": "Python 3 (ipykernel)",
   "language": "python",
   "name": "python3"
  },
  "language_info": {
   "codemirror_mode": {
    "name": "ipython",
    "version": 3
   },
   "file_extension": ".py",
   "mimetype": "text/x-python",
   "name": "python",
   "nbconvert_exporter": "python",
   "pygments_lexer": "ipython3",
   "version": "3.12.3"
  }
 },
 "nbformat": 4,
 "nbformat_minor": 5
}
